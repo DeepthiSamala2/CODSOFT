{
  "nbformat": 4,
  "nbformat_minor": 0,
  "metadata": {
    "colab": {
      "provenance": [],
      "authorship_tag": "ABX9TyP51XMbWqrSlZVkGuub5xs1",
      "include_colab_link": true
    },
    "kernelspec": {
      "name": "python3",
      "display_name": "Python 3"
    },
    "language_info": {
      "name": "python"
    }
  },
  "cells": [
    {
      "cell_type": "markdown",
      "metadata": {
        "id": "view-in-github",
        "colab_type": "text"
      },
      "source": [
        "<a href=\"https://colab.research.google.com/github/DeepthiSamala2/CODSOFT/blob/main/task1.ipynb\" target=\"_parent\"><img src=\"https://colab.research.google.com/assets/colab-badge.svg\" alt=\"Open In Colab\"/></a>"
      ]
    },
    {
      "cell_type": "code",
      "execution_count": null,
      "metadata": {
        "colab": {
          "base_uri": "https://localhost:8080/"
        },
        "id": "kPRQIBuyCEbY",
        "outputId": "5dae7443-79d0-4095-9cda-99fe6bca16e4"
      },
      "outputs": [
        {
          "name": "stdout",
          "output_type": "stream",
          "text": [
            "Hello! Welcome to our customer support. What's your name?\n",
            "hii how are you\n",
            "Hi hii how are you, how can I assist you today?\n",
            "i have aproblem \n"
          ]
        }
      ],
      "source": [
        "import random\n",
        "import re\n",
        "\n",
        "class SupportBot:\n",
        "\n",
        "    negative_res=(\"no\", \"nope\", \"nay\", \"not a chance\", \"sorry\")\n",
        "    exit_commands = (\"quit\", \"pause\", \"exit\", \"goodbye\", \"bye\", \"farewell\")\n",
        "\n",
        "    # This method should be the constructor and is now properly indented\n",
        "    def __init__(self):\n",
        "        self.support_responses = {\n",
        "            'ask_about_product': r'.*\\s*product.*',\n",
        "            'technical support': r'.technical.support.*',\n",
        "            'about_returns': r'.*\\s*returnpolicy.*',\n",
        "            'general query':r'.*how.*help.*'\n",
        "        }\n",
        "        # Added an initial value for self.name\n",
        "        self.name = \"\"\n",
        "\n",
        "    # greet method is now properly indented\n",
        "    def greet(self):\n",
        "        self.name = input(\"Hello! Welcome to our customer support. What's your name?\\n\")\n",
        "        # Corrected the print statement to use f-string for variable\n",
        "        will_help = input(f\"Hi {self.name}, how can I assist you today?\\n\")\n",
        "        if will_help.lower() in self.negative_res: # Added .lower() for case-insensitive comparison\n",
        "            print(\"Alright have a great day!\") # Corrected typo\n",
        "            return\n",
        "        self.chat()\n",
        "\n",
        "    # make_exit method is now properly indented\n",
        "    def make_exit(self,reply):\n",
        "        for command in self.exit_commands:\n",
        "            if command in reply:\n",
        "                print(\"Thanks for reaching out. have a great day!\")\n",
        "                return True\n",
        "        return False # This return should be outside the loop\n",
        "\n",
        "    # chat method is now properly indented\n",
        "    def chat(self):\n",
        "        reply = input(\"Please tell me your query: \").lower()\n",
        "        while not self.make_exit(reply):\n",
        "            reply = input(self.match_reply(reply)).lower() # Added .lower()\n",
        "\n",
        "    # match_reply method is now properly indented\n",
        "    def match_reply(self, reply):\n",
        "        for intent, regex_pattern in self.support_responses.items():\n",
        "            found_match = re.search(regex_pattern, reply)\n",
        "            # Corrected the intent check for technical_support\n",
        "            if found_match and intent == 'ask_about_product':\n",
        "                return self.ask_about_product()\n",
        "            elif found_match and intent == 'technical support': # Corrected intent key\n",
        "                return self.technical_support()\n",
        "            elif found_match and intent == 'about_returns':\n",
        "                return self.about_returns()\n",
        "            elif found_match and intent == 'general query': # Corrected intent key\n",
        "                return self.general_query()\n",
        "        return self.no_match_intent()\n",
        "\n",
        "    # ask_about_product method is now properly indented\n",
        "    def ask_about_product(self):\n",
        "        responses =(\"Our product is top-notch and has excellent reviews!\\n\",\n",
        "                    \"You can find all product details on our website.\\n\")\n",
        "        return random.choice(responses)\n",
        "\n",
        "    # technical_support method is now properly indented\n",
        "    def technical_support(self):\n",
        "        responses=(\"Please visit our technical support page for detailed assistance.\\n\",\n",
        "                   \"You can also call our tech support helpline for immediate help.\\n\")\n",
        "        return random.choice(responses)\n",
        "\n",
        "    # about_returns method is now properly indented\n",
        "    def about_returns(self):\n",
        "        responses=(\"We have a 30-day return policy.\\n\",\n",
        "                   \"Please ensure the product is in its original condition when returning.\\n\")\n",
        "        return random.choice (responses)\n",
        "\n",
        "    # general_query method is now properly indented\n",
        "    def general_query(self):\n",
        "        responses=(\"How can I assist you further?\\n\",\n",
        "                   \"Is there anything else you'd like to know?\\n\")\n",
        "        return random.choice(responses)\n",
        "\n",
        "    # no_match_intent method is now properly indented\n",
        "    def no_match_intent(self):\n",
        "        responses=(\"I'm sorry, I didn't quite understand that. Can you please rephrase?\\n\",\n",
        "                   \"My apologies, can you provide more details?\\n\")\n",
        "        return random.choice (responses)\n",
        "\n",
        "# Create an instance of the SupportBot class\n",
        "bot = SupportBot()\n",
        "# Call the greet method on the instance\n",
        "bot.greet()"
      ]
    }
  ]
}